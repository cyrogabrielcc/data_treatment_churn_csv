{
 "cells": [
  {
   "cell_type": "code",
   "execution_count": 1,
   "id": "ee922f56",
   "metadata": {},
   "outputs": [
    {
     "data": {
      "text/html": [
       "<div>\n",
       "<style scoped>\n",
       "    .dataframe tbody tr th:only-of-type {\n",
       "        vertical-align: middle;\n",
       "    }\n",
       "\n",
       "    .dataframe tbody tr th {\n",
       "        vertical-align: top;\n",
       "    }\n",
       "\n",
       "    .dataframe thead th {\n",
       "        text-align: right;\n",
       "    }\n",
       "</style>\n",
       "<table border=\"1\" class=\"dataframe\">\n",
       "  <thead>\n",
       "    <tr style=\"text-align: right;\">\n",
       "      <th></th>\n",
       "      <th>0</th>\n",
       "      <th>1</th>\n",
       "      <th>2</th>\n",
       "      <th>3</th>\n",
       "      <th>4</th>\n",
       "    </tr>\n",
       "  </thead>\n",
       "  <tbody>\n",
       "    <tr>\n",
       "      <th>X0</th>\n",
       "      <td>1</td>\n",
       "      <td>2</td>\n",
       "      <td>3</td>\n",
       "      <td>4</td>\n",
       "      <td>5</td>\n",
       "    </tr>\n",
       "    <tr>\n",
       "      <th>X1</th>\n",
       "      <td>619</td>\n",
       "      <td>608</td>\n",
       "      <td>502</td>\n",
       "      <td>699</td>\n",
       "      <td>850</td>\n",
       "    </tr>\n",
       "    <tr>\n",
       "      <th>X2</th>\n",
       "      <td>RS</td>\n",
       "      <td>SC</td>\n",
       "      <td>RS</td>\n",
       "      <td>RS</td>\n",
       "      <td>SC</td>\n",
       "    </tr>\n",
       "    <tr>\n",
       "      <th>X3</th>\n",
       "      <td>Feminino</td>\n",
       "      <td>Feminino</td>\n",
       "      <td>Feminino</td>\n",
       "      <td>Feminino</td>\n",
       "      <td>Feminino</td>\n",
       "    </tr>\n",
       "    <tr>\n",
       "      <th>X4</th>\n",
       "      <td>42</td>\n",
       "      <td>41</td>\n",
       "      <td>42</td>\n",
       "      <td>39</td>\n",
       "      <td>43</td>\n",
       "    </tr>\n",
       "    <tr>\n",
       "      <th>X4.1</th>\n",
       "      <td>2</td>\n",
       "      <td>1</td>\n",
       "      <td>8</td>\n",
       "      <td>1</td>\n",
       "      <td>2</td>\n",
       "    </tr>\n",
       "    <tr>\n",
       "      <th>X6</th>\n",
       "      <td>0</td>\n",
       "      <td>8380786</td>\n",
       "      <td>1596608</td>\n",
       "      <td>0</td>\n",
       "      <td>12551082</td>\n",
       "    </tr>\n",
       "    <tr>\n",
       "      <th>X7</th>\n",
       "      <td>1</td>\n",
       "      <td>1</td>\n",
       "      <td>3</td>\n",
       "      <td>2</td>\n",
       "      <td>1</td>\n",
       "    </tr>\n",
       "    <tr>\n",
       "      <th>X8</th>\n",
       "      <td>1</td>\n",
       "      <td>0</td>\n",
       "      <td>1</td>\n",
       "      <td>0</td>\n",
       "      <td>1</td>\n",
       "    </tr>\n",
       "    <tr>\n",
       "      <th>X9</th>\n",
       "      <td>1</td>\n",
       "      <td>1</td>\n",
       "      <td>0</td>\n",
       "      <td>0</td>\n",
       "      <td>1</td>\n",
       "    </tr>\n",
       "    <tr>\n",
       "      <th>X10</th>\n",
       "      <td>10134888.0</td>\n",
       "      <td>11254258.0</td>\n",
       "      <td>11393157.0</td>\n",
       "      <td>9382663.0</td>\n",
       "      <td>790841.0</td>\n",
       "    </tr>\n",
       "    <tr>\n",
       "      <th>X11</th>\n",
       "      <td>1</td>\n",
       "      <td>0</td>\n",
       "      <td>1</td>\n",
       "      <td>0</td>\n",
       "      <td>0</td>\n",
       "    </tr>\n",
       "  </tbody>\n",
       "</table>\n",
       "</div>"
      ],
      "text/plain": [
       "               0           1           2          3         4\n",
       "X0             1           2           3          4         5\n",
       "X1           619         608         502        699       850\n",
       "X2            RS          SC          RS         RS        SC\n",
       "X3      Feminino    Feminino    Feminino   Feminino  Feminino\n",
       "X4            42          41          42         39        43\n",
       "X4.1           2           1           8          1         2\n",
       "X6             0     8380786     1596608          0  12551082\n",
       "X7             1           1           3          2         1\n",
       "X8             1           0           1          0         1\n",
       "X9             1           1           0          0         1\n",
       "X10   10134888.0  11254258.0  11393157.0  9382663.0  790841.0\n",
       "X11            1           0           1          0         0"
      ]
     },
     "execution_count": 1,
     "metadata": {},
     "output_type": "execute_result"
    }
   ],
   "source": [
    "import pandas as pd\n",
    "import seaborn as srn\n",
    "import statistics as sts\n",
    "\n",
    "import warnings\n",
    "warnings.filterwarnings(\"ignore\")\n",
    "\n",
    "#importando os dados \n",
    "data = pd.read_csv(\"Churn.csv\", sep=\";\")\n",
    "\n",
    "data.head(5).T"
   ]
  },
  {
   "cell_type": "code",
   "execution_count": 2,
   "id": "5ab4987f",
   "metadata": {},
   "outputs": [
    {
     "data": {
      "text/html": [
       "<div>\n",
       "<style scoped>\n",
       "    .dataframe tbody tr th:only-of-type {\n",
       "        vertical-align: middle;\n",
       "    }\n",
       "\n",
       "    .dataframe tbody tr th {\n",
       "        vertical-align: top;\n",
       "    }\n",
       "\n",
       "    .dataframe thead th {\n",
       "        text-align: right;\n",
       "    }\n",
       "</style>\n",
       "<table border=\"1\" class=\"dataframe\">\n",
       "  <thead>\n",
       "    <tr style=\"text-align: right;\">\n",
       "      <th></th>\n",
       "      <th>Id</th>\n",
       "      <th>Score</th>\n",
       "      <th>Estado</th>\n",
       "      <th>Genero</th>\n",
       "      <th>Idade</th>\n",
       "      <th>Patrimonio</th>\n",
       "      <th>Saldo</th>\n",
       "      <th>Produtos</th>\n",
       "      <th>TemCartCredito</th>\n",
       "      <th>Ativo</th>\n",
       "      <th>Salario</th>\n",
       "      <th>Saiu</th>\n",
       "    </tr>\n",
       "  </thead>\n",
       "  <tbody>\n",
       "    <tr>\n",
       "      <th>0</th>\n",
       "      <td>1</td>\n",
       "      <td>619</td>\n",
       "      <td>RS</td>\n",
       "      <td>Feminino</td>\n",
       "      <td>42</td>\n",
       "      <td>2</td>\n",
       "      <td>0</td>\n",
       "      <td>1</td>\n",
       "      <td>1</td>\n",
       "      <td>1</td>\n",
       "      <td>10134888.0</td>\n",
       "      <td>1</td>\n",
       "    </tr>\n",
       "    <tr>\n",
       "      <th>1</th>\n",
       "      <td>2</td>\n",
       "      <td>608</td>\n",
       "      <td>SC</td>\n",
       "      <td>Feminino</td>\n",
       "      <td>41</td>\n",
       "      <td>1</td>\n",
       "      <td>8380786</td>\n",
       "      <td>1</td>\n",
       "      <td>0</td>\n",
       "      <td>1</td>\n",
       "      <td>11254258.0</td>\n",
       "      <td>0</td>\n",
       "    </tr>\n",
       "    <tr>\n",
       "      <th>2</th>\n",
       "      <td>3</td>\n",
       "      <td>502</td>\n",
       "      <td>RS</td>\n",
       "      <td>Feminino</td>\n",
       "      <td>42</td>\n",
       "      <td>8</td>\n",
       "      <td>1596608</td>\n",
       "      <td>3</td>\n",
       "      <td>1</td>\n",
       "      <td>0</td>\n",
       "      <td>11393157.0</td>\n",
       "      <td>1</td>\n",
       "    </tr>\n",
       "    <tr>\n",
       "      <th>3</th>\n",
       "      <td>4</td>\n",
       "      <td>699</td>\n",
       "      <td>RS</td>\n",
       "      <td>Feminino</td>\n",
       "      <td>39</td>\n",
       "      <td>1</td>\n",
       "      <td>0</td>\n",
       "      <td>2</td>\n",
       "      <td>0</td>\n",
       "      <td>0</td>\n",
       "      <td>9382663.0</td>\n",
       "      <td>0</td>\n",
       "    </tr>\n",
       "    <tr>\n",
       "      <th>4</th>\n",
       "      <td>5</td>\n",
       "      <td>850</td>\n",
       "      <td>SC</td>\n",
       "      <td>Feminino</td>\n",
       "      <td>43</td>\n",
       "      <td>2</td>\n",
       "      <td>12551082</td>\n",
       "      <td>1</td>\n",
       "      <td>1</td>\n",
       "      <td>1</td>\n",
       "      <td>790841.0</td>\n",
       "      <td>0</td>\n",
       "    </tr>\n",
       "  </tbody>\n",
       "</table>\n",
       "</div>"
      ],
      "text/plain": [
       "   Id  Score Estado    Genero  Idade  Patrimonio     Saldo  Produtos  \\\n",
       "0   1    619     RS  Feminino     42           2         0         1   \n",
       "1   2    608     SC  Feminino     41           1   8380786         1   \n",
       "2   3    502     RS  Feminino     42           8   1596608         3   \n",
       "3   4    699     RS  Feminino     39           1         0         2   \n",
       "4   5    850     SC  Feminino     43           2  12551082         1   \n",
       "\n",
       "   TemCartCredito  Ativo     Salario  Saiu  \n",
       "0               1      1  10134888.0     1  \n",
       "1               0      1  11254258.0     0  \n",
       "2               1      0  11393157.0     1  \n",
       "3               0      0   9382663.0     0  \n",
       "4               1      1    790841.0     0  "
      ]
     },
     "execution_count": 2,
     "metadata": {},
     "output_type": "execute_result"
    }
   ],
   "source": [
    "#renomenado as colunas\n",
    "\n",
    "data.columns = [\"Id\",\n",
    "                  \"Score\",\n",
    "                  \"Estado\",\n",
    "                  \"Genero\",\n",
    "                  \"Idade\",\n",
    "                  \"Patrimonio\",\n",
    "                  \"Saldo\",\n",
    "                  \"Produtos\",\n",
    "                  \"TemCartCredito\",\n",
    "                  \"Ativo\",\n",
    "                  \"Salario\",\n",
    "                  \"Saiu\"]\n",
    "\n",
    "data.head(5)"
   ]
  },
  {
   "cell_type": "markdown",
   "id": "bf7edc02",
   "metadata": {},
   "source": [
    "### Verificando valores do estado e gênero (colunas não numéricas)"
   ]
  },
  {
   "cell_type": "code",
   "execution_count": 3,
   "id": "c4537518",
   "metadata": {},
   "outputs": [
    {
     "data": {
      "image/png": "[encoded data removed]",
      "text/plain": [
       "<Figure size 432x288 with 1 Axes>"
      ]
     },
     "metadata": {
      "needs_background": "light"
     },
     "output_type": "display_data"
    }
   ],
   "source": [
    "# Explorando os dados - Agrupando por estado\n",
    "# plotando a quantidade por estado\n",
    "group_estado = data.groupby([\"Estado\"]).size()\n",
    "group_estado.plot.bar(color=\"red\");"
   ]
  },
  {
   "cell_type": "code",
   "execution_count": 4,
   "id": "6c0c7f0c",
   "metadata": {},
   "outputs": [
    {
     "data": {
      "image/png": "[encoded data removed]",
      "text/plain": [
       "<Figure size 432x288 with 1 Axes>"
      ]
     },
     "metadata": {
      "needs_background": "light"
     },
     "output_type": "display_data"
    }
   ],
   "source": [
    "#agrupando e plotando por gênero\n",
    "group_genero = data.groupby([\"Genero\"]).size()\n",
    "#exibindo os valores por genero\n",
    "group_genero.plot.bar(color=\"pink\");"
   ]
  },
  {
   "cell_type": "code",
   "execution_count": 5,
   "id": "0777a6bb",
   "metadata": {},
   "outputs": [
    {
     "data": {
      "text/plain": [
       "0"
      ]
     },
     "execution_count": 5,
     "metadata": {},
     "output_type": "execute_result"
    }
   ],
   "source": [
    "data[\"Estado\"].isnull().sum()"
   ]
  },
  {
   "cell_type": "code",
   "execution_count": 6,
   "id": "f43f16e7",
   "metadata": {},
   "outputs": [
    {
     "data": {
      "text/plain": [
       "0    RS\n",
       "dtype: object"
      ]
     },
     "execution_count": 6,
     "metadata": {},
     "output_type": "execute_result"
    }
   ],
   "source": [
    "data[\"Estado\"].mode() #masculino"
   ]
  },
  {
   "cell_type": "markdown",
   "id": "1cdfaf97",
   "metadata": {},
   "source": [
    "#### Substituindo os valores errados do gênero e do estado;"
   ]
  },
  {
   "cell_type": "code",
   "execution_count": 7,
   "id": "8baeb0f3",
   "metadata": {},
   "outputs": [
    {
     "data": {
      "text/plain": [
       "0    Masculino\n",
       "dtype: object"
      ]
     },
     "execution_count": 7,
     "metadata": {},
     "output_type": "execute_result"
    }
   ],
   "source": [
    "#vendo o que mais aparece (moda)\n",
    "data[\"Genero\"].mode() #masculino"
   ]
  },
  {
   "cell_type": "code",
   "execution_count": 8,
   "id": "b38e083e",
   "metadata": {},
   "outputs": [
    {
     "data": {
      "text/plain": [
       "8"
      ]
     },
     "execution_count": 8,
     "metadata": {},
     "output_type": "execute_result"
    }
   ],
   "source": [
    "#olha os nulos aê\n",
    "data[\"Genero\"].isnull().sum()"
   ]
  },
  {
   "cell_type": "code",
   "execution_count": 9,
   "id": "7119d187",
   "metadata": {},
   "outputs": [],
   "source": [
    "# Aonde tiver M vira Masculino\n",
    "data.loc[data['Genero'] =='M', 'Genero'] = \"Masculino\""
   ]
  },
  {
   "cell_type": "code",
   "execution_count": 10,
   "id": "f0014ade",
   "metadata": {},
   "outputs": [],
   "source": [
    "#Aonde tiver F vira feminino\n",
    "data.loc[data[\"Genero\"].isin(['F', 'Fem']), 'Genero'] = 'Feminino'"
   ]
  },
  {
   "cell_type": "code",
   "execution_count": 11,
   "id": "480ae060",
   "metadata": {},
   "outputs": [],
   "source": [
    "#colocando os nulos como Masculino\n",
    "data['Genero'].fillna('Masculino', inplace=True)"
   ]
  },
  {
   "cell_type": "markdown",
   "id": "173dada4",
   "metadata": {},
   "source": [
    "#### Plotando o resultado ajustado"
   ]
  },
  {
   "cell_type": "code",
   "execution_count": 12,
   "id": "c620e793",
   "metadata": {},
   "outputs": [
    {
     "data": {
      "image/png": "[encoded data removed]",
      "text/plain": [
       "<Figure size 432x288 with 1 Axes>"
      ]
     },
     "metadata": {
      "needs_background": "light"
     },
     "output_type": "display_data"
    }
   ],
   "source": [
    "#agrupando e plotando por gênero\n",
    "group_genero = data.groupby([\"Genero\"]).size()\n",
    "#exibindo os valores por genero\n",
    "group_genero.plot.bar(color=\"pink\");"
   ]
  },
  {
   "cell_type": "markdown",
   "id": "b45f98cb",
   "metadata": {},
   "source": [
    "### Ajustando o estado"
   ]
  },
  {
   "cell_type": "code",
   "execution_count": 13,
   "id": "3edc0503",
   "metadata": {},
   "outputs": [],
   "source": [
    "#Substituindo os estados errados pela moda\n",
    "\n",
    "data.loc[data[\"Estado\"].isin(['RP', 'TD', 'SP']), 'Estado'] = \"RS\""
   ]
  },
  {
   "cell_type": "code",
   "execution_count": 14,
   "id": "fd78a419",
   "metadata": {},
   "outputs": [
    {
     "data": {
      "text/plain": [
       "<AxesSubplot:xlabel='Estado'>"
      ]
     },
     "execution_count": 14,
     "metadata": {},
     "output_type": "execute_result"
    },
    {
     "data": {
      "image/png": "[encoded data removed]",
      "text/plain": [
       "<Figure size 432x288 with 1 Axes>"
      ]
     },
     "metadata": {
      "needs_background": "light"
     },
     "output_type": "display_data"
    }
   ],
   "source": [
    "estado_agrupado = data.groupby([\"Estado\"]).size()\n",
    "\n",
    "estado_agrupado.plot.bar(color = \"red\")"
   ]
  },
  {
   "cell_type": "markdown",
   "id": "f8e13008",
   "metadata": {},
   "source": [
    "### Explorando as colunas numéricas\n",
    "\n",
    "- Idade"
   ]
  },
  {
   "cell_type": "code",
   "execution_count": 15,
   "id": "f0ee4690",
   "metadata": {},
   "outputs": [
    {
     "data": {
      "text/plain": [
       "count    999.000000\n",
       "mean     648.621622\n",
       "std       98.264219\n",
       "min      376.000000\n",
       "25%      580.000000\n",
       "50%      653.000000\n",
       "75%      721.000000\n",
       "max      850.000000\n",
       "Name: Score, dtype: float64"
      ]
     },
     "execution_count": 15,
     "metadata": {},
     "output_type": "execute_result"
    }
   ],
   "source": [
    "data[\"Score\"].describe()"
   ]
  },
  {
   "cell_type": "code",
   "execution_count": 16,
   "id": "cd4408c2",
   "metadata": {},
   "outputs": [
    {
     "data": {
      "image/png": "[encoded data removed]",
      "text/plain": [
       "<Figure size 432x288 with 1 Axes>"
      ]
     },
     "metadata": {
      "needs_background": "light"
     },
     "output_type": "display_data"
    }
   ],
   "source": [
    "srn.boxplot(data['Score']).set_title('Score');"
   ]
  },
  {
   "cell_type": "code",
   "execution_count": 17,
   "id": "ac255f89",
   "metadata": {},
   "outputs": [
    {
     "data": {
      "image/png": "[encoded data removed]",
      "text/plain": [
       "<Figure size 432x288 with 1 Axes>"
      ]
     },
     "metadata": {
      "needs_background": "light"
     },
     "output_type": "display_data"
    }
   ],
   "source": [
    "srn.distplot(data['Score']).set_title('Score');"
   ]
  },
  {
   "cell_type": "code",
   "execution_count": 18,
   "id": "f1501cba",
   "metadata": {},
   "outputs": [
    {
     "data": {
      "text/plain": [
       "count    999.000000\n",
       "mean      38.902903\n",
       "std       11.401912\n",
       "min      -20.000000\n",
       "25%       32.000000\n",
       "50%       37.000000\n",
       "75%       44.000000\n",
       "max      140.000000\n",
       "Name: Idade, dtype: float64"
      ]
     },
     "execution_count": 18,
     "metadata": {},
     "output_type": "execute_result"
    }
   ],
   "source": [
    "data[\"Idade\"].describe()"
   ]
  },
  {
   "cell_type": "code",
   "execution_count": 19,
   "id": "72c1f42d",
   "metadata": {},
   "outputs": [
    {
     "data": {
      "image/png": "[encoded data removed]",
      "text/plain": [
       "<Figure size 432x288 with 1 Axes>"
      ]
     },
     "metadata": {
      "needs_background": "light"
     },
     "output_type": "display_data"
    }
   ],
   "source": [
    "srn.boxplot(data['Idade']).set_title('Idade');"
   ]
  },
  {
   "cell_type": "code",
   "execution_count": 20,
   "id": "a6023866",
   "metadata": {},
   "outputs": [
    {
     "data": {
      "image/png": "[encoded data removed]",
      "text/plain": [
       "<Figure size 432x288 with 1 Axes>"
      ]
     },
     "metadata": {
      "needs_background": "light"
     },
     "output_type": "display_data"
    }
   ],
   "source": [
    "srn.distplot(data['Idade']);"
   ]
  },
  {
   "cell_type": "code",
   "execution_count": 21,
   "id": "932f977d",
   "metadata": {},
   "outputs": [],
   "source": [
    "#substituindo pela mediana\n",
    "\n",
    "mediana_idade = sts.median(data['Idade'])\n",
    "data.loc[(data['Idade']<0) | (data['Idade']>105)] =  mediana_idade"
   ]
  },
  {
   "cell_type": "markdown",
   "id": "58e8eeae",
   "metadata": {},
   "source": [
    "##### --- Saldo"
   ]
  },
  {
   "cell_type": "code",
   "execution_count": 22,
   "id": "cbc86b50",
   "metadata": {},
   "outputs": [
    {
     "data": {
      "text/plain": [
       "count    9.990000e+02\n",
       "mean     7.135268e+06\n",
       "std      6.309996e+06\n",
       "min      0.000000e+00\n",
       "25%      0.000000e+00\n",
       "50%      8.891537e+06\n",
       "75%      1.257070e+07\n",
       "max      2.117743e+07\n",
       "Name: Saldo, dtype: float64"
      ]
     },
     "execution_count": 22,
     "metadata": {},
     "output_type": "execute_result"
    }
   ],
   "source": [
    "data['Saldo'].describe()"
   ]
  },
  {
   "cell_type": "code",
   "execution_count": 23,
   "id": "3d63552c",
   "metadata": {},
   "outputs": [
    {
     "data": {
      "image/png": "[encoded data removed]",
      "text/plain": [
       "<Figure size 432x288 with 1 Axes>"
      ]
     },
     "metadata": {
      "needs_background": "light"
     },
     "output_type": "display_data"
    }
   ],
   "source": [
    "srn.boxplot(data['Saldo']);"
   ]
  },
  {
   "cell_type": "code",
   "execution_count": 24,
   "id": "e1071df2",
   "metadata": {},
   "outputs": [
    {
     "data": {
      "text/plain": [
       "<AxesSubplot:xlabel='Saldo', ylabel='Density'>"
      ]
     },
     "execution_count": 24,
     "metadata": {},
     "output_type": "execute_result"
    },
    {
     "data": {
      "image/png": "[encoded data removed]",
      "text/plain": [
       "<Figure size 432x288 with 1 Axes>"
      ]
     },
     "metadata": {
      "needs_background": "light"
     },
     "output_type": "display_data"
    }
   ],
   "source": [
    "srn.distplot(data['Saldo'])"
   ]
  },
  {
   "cell_type": "markdown",
   "id": "2071440d",
   "metadata": {},
   "source": [
    "##### --- Salario"
   ]
  },
  {
   "cell_type": "code",
   "execution_count": 25,
   "id": "98a421cd",
   "metadata": {},
   "outputs": [
    {
     "data": {
      "image/png": "[encoded data removed]",
      "text/plain": [
       "<Figure size 432x288 with 1 Axes>"
      ]
     },
     "metadata": {
      "needs_background": "light"
     },
     "output_type": "display_data"
    }
   ],
   "source": [
    "srn.distplot(data[\"Salario\"]);"
   ]
  },
  {
   "cell_type": "code",
   "execution_count": 26,
   "id": "b9c323f7",
   "metadata": {},
   "outputs": [
    {
     "data": {
      "text/plain": [
       "0"
      ]
     },
     "execution_count": 26,
     "metadata": {},
     "output_type": "execute_result"
    }
   ],
   "source": [
    "#calculando a mediana\n",
    "mediana_salario = sts.median(data['Salario'])\n",
    "\n",
    "#substituindo os valores null\n",
    "data['Salario'].fillna(mediana_salario, inplace=True)\n",
    "\n",
    "#verificando\n",
    "data['Salario'].isnull().sum()"
   ]
  },
  {
   "cell_type": "code",
   "execution_count": 27,
   "id": "e0ea5460",
   "metadata": {},
   "outputs": [
    {
     "data": {
      "text/plain": [
       "<AxesSubplot:xlabel='Salario', ylabel='Density'>"
      ]
     },
     "execution_count": 27,
     "metadata": {},
     "output_type": "execute_result"
    },
    {
     "data": {
      "image/png": "[encoded data removed]",
      "text/plain": [
       "<Figure size 432x288 with 1 Axes>"
      ]
     },
     "metadata": {
      "needs_background": "light"
     },
     "output_type": "display_data"
    }
   ],
   "source": [
    "#pegando o desvio padrão\n",
    "desv = sts.stdev(data[\"Salario\"])\n",
    "#pegando a mediana\n",
    "\n",
    "#vendo os que estão acima de 2x o desv padrão\n",
    "data.loc[data[\"Salario\"] >= 2* desv, 'Salario'] = mediana_salario\n",
    "\n",
    "\n",
    "srn.distplot(data['Salario'])\n",
    "\n",
    "#Salario OK"
   ]
  },
  {
   "cell_type": "code",
   "execution_count": 28,
   "id": "3dc1dca9",
   "metadata": {},
   "outputs": [
    {
     "data": {
      "text/plain": [
       "(999, 12)"
      ]
     },
     "execution_count": 28,
     "metadata": {},
     "output_type": "execute_result"
    }
   ],
   "source": [
    "data.shape"
   ]
  },
  {
   "cell_type": "code",
   "execution_count": 29,
   "id": "a0403b80",
   "metadata": {},
   "outputs": [
    {
     "data": {
      "text/html": [
       "<div>\n",
       "<style scoped>\n",
       "    .dataframe tbody tr th:only-of-type {\n",
       "        vertical-align: middle;\n",
       "    }\n",
       "\n",
       "    .dataframe tbody tr th {\n",
       "        vertical-align: top;\n",
       "    }\n",
       "\n",
       "    .dataframe thead th {\n",
       "        text-align: right;\n",
       "    }\n",
       "</style>\n",
       "<table border=\"1\" class=\"dataframe\">\n",
       "  <thead>\n",
       "    <tr style=\"text-align: right;\">\n",
       "      <th></th>\n",
       "      <th>count</th>\n",
       "      <th>mean</th>\n",
       "      <th>std</th>\n",
       "      <th>min</th>\n",
       "      <th>25%</th>\n",
       "      <th>50%</th>\n",
       "      <th>75%</th>\n",
       "      <th>max</th>\n",
       "    </tr>\n",
       "  </thead>\n",
       "  <tbody>\n",
       "    <tr>\n",
       "      <th>Id</th>\n",
       "      <td>999.0</td>\n",
       "      <td>4.981782e+02</td>\n",
       "      <td>2.887084e+02</td>\n",
       "      <td>1.0</td>\n",
       "      <td>248.5</td>\n",
       "      <td>498.0</td>\n",
       "      <td>747.5</td>\n",
       "      <td>1000.0</td>\n",
       "    </tr>\n",
       "    <tr>\n",
       "      <th>Score</th>\n",
       "      <td>999.0</td>\n",
       "      <td>6.466667e+02</td>\n",
       "      <td>1.037344e+02</td>\n",
       "      <td>37.0</td>\n",
       "      <td>578.0</td>\n",
       "      <td>652.0</td>\n",
       "      <td>721.0</td>\n",
       "      <td>850.0</td>\n",
       "    </tr>\n",
       "    <tr>\n",
       "      <th>Idade</th>\n",
       "      <td>999.0</td>\n",
       "      <td>3.890390e+01</td>\n",
       "      <td>1.067242e+01</td>\n",
       "      <td>0.0</td>\n",
       "      <td>32.0</td>\n",
       "      <td>37.0</td>\n",
       "      <td>44.0</td>\n",
       "      <td>82.0</td>\n",
       "    </tr>\n",
       "    <tr>\n",
       "      <th>Patrimonio</th>\n",
       "      <td>999.0</td>\n",
       "      <td>5.173173e+00</td>\n",
       "      <td>3.404736e+00</td>\n",
       "      <td>0.0</td>\n",
       "      <td>2.5</td>\n",
       "      <td>5.0</td>\n",
       "      <td>8.0</td>\n",
       "      <td>37.0</td>\n",
       "    </tr>\n",
       "    <tr>\n",
       "      <th>Saldo</th>\n",
       "      <td>999.0</td>\n",
       "      <td>7.135268e+06</td>\n",
       "      <td>6.309996e+06</td>\n",
       "      <td>0.0</td>\n",
       "      <td>0.0</td>\n",
       "      <td>8891537.0</td>\n",
       "      <td>12570695.0</td>\n",
       "      <td>21177431.0</td>\n",
       "    </tr>\n",
       "    <tr>\n",
       "      <th>Produtos</th>\n",
       "      <td>999.0</td>\n",
       "      <td>1.632633e+00</td>\n",
       "      <td>2.024939e+00</td>\n",
       "      <td>1.0</td>\n",
       "      <td>1.0</td>\n",
       "      <td>1.0</td>\n",
       "      <td>2.0</td>\n",
       "      <td>37.0</td>\n",
       "    </tr>\n",
       "    <tr>\n",
       "      <th>TemCartCredito</th>\n",
       "      <td>999.0</td>\n",
       "      <td>8.118118e-01</td>\n",
       "      <td>2.038856e+00</td>\n",
       "      <td>0.0</td>\n",
       "      <td>0.0</td>\n",
       "      <td>1.0</td>\n",
       "      <td>1.0</td>\n",
       "      <td>37.0</td>\n",
       "    </tr>\n",
       "    <tr>\n",
       "      <th>Ativo</th>\n",
       "      <td>999.0</td>\n",
       "      <td>6.196196e-01</td>\n",
       "      <td>2.059110e+00</td>\n",
       "      <td>0.0</td>\n",
       "      <td>0.0</td>\n",
       "      <td>1.0</td>\n",
       "      <td>1.0</td>\n",
       "      <td>37.0</td>\n",
       "    </tr>\n",
       "    <tr>\n",
       "      <th>Salario</th>\n",
       "      <td>999.0</td>\n",
       "      <td>8.737480e+06</td>\n",
       "      <td>6.107214e+06</td>\n",
       "      <td>37.0</td>\n",
       "      <td>2758229.0</td>\n",
       "      <td>8557863.0</td>\n",
       "      <td>13951803.5</td>\n",
       "      <td>19972539.0</td>\n",
       "    </tr>\n",
       "    <tr>\n",
       "      <th>Saiu</th>\n",
       "      <td>999.0</td>\n",
       "      <td>3.133133e-01</td>\n",
       "      <td>2.054111e+00</td>\n",
       "      <td>0.0</td>\n",
       "      <td>0.0</td>\n",
       "      <td>0.0</td>\n",
       "      <td>0.0</td>\n",
       "      <td>37.0</td>\n",
       "    </tr>\n",
       "  </tbody>\n",
       "</table>\n",
       "</div>"
      ],
      "text/plain": [
       "                count          mean           std   min        25%        50%  \\\n",
       "Id              999.0  4.981782e+02  2.887084e+02   1.0      248.5      498.0   \n",
       "Score           999.0  6.466667e+02  1.037344e+02  37.0      578.0      652.0   \n",
       "Idade           999.0  3.890390e+01  1.067242e+01   0.0       32.0       37.0   \n",
       "Patrimonio      999.0  5.173173e+00  3.404736e+00   0.0        2.5        5.0   \n",
       "Saldo           999.0  7.135268e+06  6.309996e+06   0.0        0.0  8891537.0   \n",
       "Produtos        999.0  1.632633e+00  2.024939e+00   1.0        1.0        1.0   \n",
       "TemCartCredito  999.0  8.118118e-01  2.038856e+00   0.0        0.0        1.0   \n",
       "Ativo           999.0  6.196196e-01  2.059110e+00   0.0        0.0        1.0   \n",
       "Salario         999.0  8.737480e+06  6.107214e+06  37.0  2758229.0  8557863.0   \n",
       "Saiu            999.0  3.133133e-01  2.054111e+00   0.0        0.0        0.0   \n",
       "\n",
       "                       75%         max  \n",
       "Id                   747.5      1000.0  \n",
       "Score                721.0       850.0  \n",
       "Idade                 44.0        82.0  \n",
       "Patrimonio             8.0        37.0  \n",
       "Saldo           12570695.0  21177431.0  \n",
       "Produtos               2.0        37.0  \n",
       "TemCartCredito         1.0        37.0  \n",
       "Ativo                  1.0        37.0  \n",
       "Salario         13951803.5  19972539.0  \n",
       "Saiu                   0.0        37.0  "
      ]
     },
     "execution_count": 29,
     "metadata": {},
     "output_type": "execute_result"
    }
   ],
   "source": [
    "data.describe().T"
   ]
  },
  {
   "cell_type": "markdown",
   "id": "b5bfeb16",
   "metadata": {},
   "source": [
    "\n",
    "### Vendo outros atributos\n"
   ]
  },
  {
   "cell_type": "code",
   "execution_count": 30,
   "id": "977adb55",
   "metadata": {},
   "outputs": [
    {
     "data": {
      "image/png": "[encoded data removed]",
      "text/plain": [
       "<Figure size 432x288 with 1 Axes>"
      ]
     },
     "metadata": {
      "needs_background": "light"
     },
     "output_type": "display_data"
    }
   ],
   "source": [
    "temcardcredito_agrupado = data.groupby(['TemCartCredito']).size()\n",
    "\n",
    "temcardcredito_agrupado.plot.bar();"
   ]
  },
  {
   "cell_type": "code",
   "execution_count": 31,
   "id": "a3f14d89",
   "metadata": {},
   "outputs": [
    {
     "data": {
      "text/html": [
       "<div>\n",
       "<style scoped>\n",
       "    .dataframe tbody tr th:only-of-type {\n",
       "        vertical-align: middle;\n",
       "    }\n",
       "\n",
       "    .dataframe tbody tr th {\n",
       "        vertical-align: top;\n",
       "    }\n",
       "\n",
       "    .dataframe thead th {\n",
       "        text-align: right;\n",
       "    }\n",
       "</style>\n",
       "<table border=\"1\" class=\"dataframe\">\n",
       "  <thead>\n",
       "    <tr style=\"text-align: right;\">\n",
       "      <th></th>\n",
       "      <th>Id</th>\n",
       "      <th>Score</th>\n",
       "      <th>Estado</th>\n",
       "      <th>Genero</th>\n",
       "      <th>Idade</th>\n",
       "      <th>Patrimonio</th>\n",
       "      <th>Saldo</th>\n",
       "      <th>Produtos</th>\n",
       "      <th>TemCartCredito</th>\n",
       "      <th>Ativo</th>\n",
       "      <th>Salario</th>\n",
       "      <th>Saiu</th>\n",
       "    </tr>\n",
       "  </thead>\n",
       "  <tbody>\n",
       "    <tr>\n",
       "      <th>867</th>\n",
       "      <td>37</td>\n",
       "      <td>37</td>\n",
       "      <td>37</td>\n",
       "      <td>37</td>\n",
       "      <td>37</td>\n",
       "      <td>37</td>\n",
       "      <td>37</td>\n",
       "      <td>37</td>\n",
       "      <td>37</td>\n",
       "      <td>37</td>\n",
       "      <td>37.0</td>\n",
       "      <td>37</td>\n",
       "    </tr>\n",
       "    <tr>\n",
       "      <th>984</th>\n",
       "      <td>37</td>\n",
       "      <td>37</td>\n",
       "      <td>37</td>\n",
       "      <td>37</td>\n",
       "      <td>37</td>\n",
       "      <td>37</td>\n",
       "      <td>37</td>\n",
       "      <td>37</td>\n",
       "      <td>37</td>\n",
       "      <td>37</td>\n",
       "      <td>37.0</td>\n",
       "      <td>37</td>\n",
       "    </tr>\n",
       "    <tr>\n",
       "      <th>990</th>\n",
       "      <td>37</td>\n",
       "      <td>37</td>\n",
       "      <td>37</td>\n",
       "      <td>37</td>\n",
       "      <td>37</td>\n",
       "      <td>37</td>\n",
       "      <td>37</td>\n",
       "      <td>37</td>\n",
       "      <td>37</td>\n",
       "      <td>37</td>\n",
       "      <td>37.0</td>\n",
       "      <td>37</td>\n",
       "    </tr>\n",
       "  </tbody>\n",
       "</table>\n",
       "</div>"
      ],
      "text/plain": [
       "     Id  Score Estado Genero  Idade  Patrimonio  Saldo  Produtos  \\\n",
       "867  37     37     37     37     37          37     37        37   \n",
       "984  37     37     37     37     37          37     37        37   \n",
       "990  37     37     37     37     37          37     37        37   \n",
       "\n",
       "     TemCartCredito  Ativo  Salario  Saiu  \n",
       "867              37     37     37.0    37  \n",
       "984              37     37     37.0    37  \n",
       "990              37     37     37.0    37  "
      ]
     },
     "execution_count": 31,
     "metadata": {},
     "output_type": "execute_result"
    }
   ],
   "source": [
    "#localizando valores inválidos\n",
    "data.loc[(data['TemCartCredito'] != 0 ) & (data['TemCartCredito'] != 1)]"
   ]
  },
  {
   "cell_type": "code",
   "execution_count": 32,
   "id": "2d776cd4",
   "metadata": {
    "scrolled": true
   },
   "outputs": [
    {
     "data": {
      "text/html": [
       "<div>\n",
       "<style scoped>\n",
       "    .dataframe tbody tr th:only-of-type {\n",
       "        vertical-align: middle;\n",
       "    }\n",
       "\n",
       "    .dataframe tbody tr th {\n",
       "        vertical-align: top;\n",
       "    }\n",
       "\n",
       "    .dataframe thead th {\n",
       "        text-align: right;\n",
       "    }\n",
       "</style>\n",
       "<table border=\"1\" class=\"dataframe\">\n",
       "  <thead>\n",
       "    <tr style=\"text-align: right;\">\n",
       "      <th></th>\n",
       "      <th>Id</th>\n",
       "      <th>Score</th>\n",
       "      <th>Estado</th>\n",
       "      <th>Genero</th>\n",
       "      <th>Idade</th>\n",
       "      <th>Patrimonio</th>\n",
       "      <th>Saldo</th>\n",
       "      <th>Produtos</th>\n",
       "      <th>TemCartCredito</th>\n",
       "      <th>Ativo</th>\n",
       "      <th>Salario</th>\n",
       "      <th>Saiu</th>\n",
       "    </tr>\n",
       "  </thead>\n",
       "  <tbody>\n",
       "    <tr>\n",
       "      <th>36</th>\n",
       "      <td>37</td>\n",
       "      <td>490</td>\n",
       "      <td>SC</td>\n",
       "      <td>Masculino</td>\n",
       "      <td>31</td>\n",
       "      <td>3</td>\n",
       "      <td>14526023</td>\n",
       "      <td>1</td>\n",
       "      <td>0</td>\n",
       "      <td>1</td>\n",
       "      <td>11406677.0</td>\n",
       "      <td>0</td>\n",
       "    </tr>\n",
       "    <tr>\n",
       "      <th>80</th>\n",
       "      <td>81</td>\n",
       "      <td>665</td>\n",
       "      <td>RS</td>\n",
       "      <td>Feminino</td>\n",
       "      <td>34</td>\n",
       "      <td>1</td>\n",
       "      <td>9664554</td>\n",
       "      <td>2</td>\n",
       "      <td>0</td>\n",
       "      <td>0</td>\n",
       "      <td>17141366.0</td>\n",
       "      <td>0</td>\n",
       "    </tr>\n",
       "    <tr>\n",
       "      <th>81</th>\n",
       "      <td>81</td>\n",
       "      <td>665</td>\n",
       "      <td>RS</td>\n",
       "      <td>Feminino</td>\n",
       "      <td>34</td>\n",
       "      <td>1</td>\n",
       "      <td>9664554</td>\n",
       "      <td>2</td>\n",
       "      <td>0</td>\n",
       "      <td>0</td>\n",
       "      <td>17141366.0</td>\n",
       "      <td>0</td>\n",
       "    </tr>\n",
       "    <tr>\n",
       "      <th>867</th>\n",
       "      <td>37</td>\n",
       "      <td>37</td>\n",
       "      <td>37</td>\n",
       "      <td>37</td>\n",
       "      <td>37</td>\n",
       "      <td>37</td>\n",
       "      <td>37</td>\n",
       "      <td>37</td>\n",
       "      <td>37</td>\n",
       "      <td>37</td>\n",
       "      <td>37.0</td>\n",
       "      <td>37</td>\n",
       "    </tr>\n",
       "    <tr>\n",
       "      <th>984</th>\n",
       "      <td>37</td>\n",
       "      <td>37</td>\n",
       "      <td>37</td>\n",
       "      <td>37</td>\n",
       "      <td>37</td>\n",
       "      <td>37</td>\n",
       "      <td>37</td>\n",
       "      <td>37</td>\n",
       "      <td>37</td>\n",
       "      <td>37</td>\n",
       "      <td>37.0</td>\n",
       "      <td>37</td>\n",
       "    </tr>\n",
       "    <tr>\n",
       "      <th>990</th>\n",
       "      <td>37</td>\n",
       "      <td>37</td>\n",
       "      <td>37</td>\n",
       "      <td>37</td>\n",
       "      <td>37</td>\n",
       "      <td>37</td>\n",
       "      <td>37</td>\n",
       "      <td>37</td>\n",
       "      <td>37</td>\n",
       "      <td>37</td>\n",
       "      <td>37.0</td>\n",
       "      <td>37</td>\n",
       "    </tr>\n",
       "  </tbody>\n",
       "</table>\n",
       "</div>"
      ],
      "text/plain": [
       "     Id  Score Estado     Genero  Idade  Patrimonio     Saldo  Produtos  \\\n",
       "36   37    490     SC  Masculino     31           3  14526023         1   \n",
       "80   81    665     RS   Feminino     34           1   9664554         2   \n",
       "81   81    665     RS   Feminino     34           1   9664554         2   \n",
       "867  37     37     37         37     37          37        37        37   \n",
       "984  37     37     37         37     37          37        37        37   \n",
       "990  37     37     37         37     37          37        37        37   \n",
       "\n",
       "     TemCartCredito  Ativo     Salario  Saiu  \n",
       "36                0      1  11406677.0     0  \n",
       "80                0      0  17141366.0     0  \n",
       "81                0      0  17141366.0     0  \n",
       "867              37     37        37.0    37  \n",
       "984              37     37        37.0    37  \n",
       "990              37     37        37.0    37  "
      ]
     },
     "execution_count": 32,
     "metadata": {},
     "output_type": "execute_result"
    }
   ],
   "source": [
    "# fazendo drop pelo ID dessas bagaças\n",
    "data[data.duplicated(['Id'],keep=False)]"
   ]
  },
  {
   "cell_type": "code",
   "execution_count": 33,
   "id": "9f4ac320",
   "metadata": {},
   "outputs": [],
   "source": [
    "#removendo os duplicados\n",
    "data.drop_duplicates(subset=\"Id\", keep='first', inplace=True)"
   ]
  },
  {
   "cell_type": "code",
   "execution_count": 34,
   "id": "d9742000",
   "metadata": {},
   "outputs": [
    {
     "data": {
      "text/html": [
       "<div>\n",
       "<style scoped>\n",
       "    .dataframe tbody tr th:only-of-type {\n",
       "        vertical-align: middle;\n",
       "    }\n",
       "\n",
       "    .dataframe tbody tr th {\n",
       "        vertical-align: top;\n",
       "    }\n",
       "\n",
       "    .dataframe thead th {\n",
       "        text-align: right;\n",
       "    }\n",
       "</style>\n",
       "<table border=\"1\" class=\"dataframe\">\n",
       "  <thead>\n",
       "    <tr style=\"text-align: right;\">\n",
       "      <th></th>\n",
       "    </tr>\n",
       "  </thead>\n",
       "  <tbody>\n",
       "    <tr>\n",
       "      <th>Id</th>\n",
       "    </tr>\n",
       "    <tr>\n",
       "      <th>Score</th>\n",
       "    </tr>\n",
       "    <tr>\n",
       "      <th>Estado</th>\n",
       "    </tr>\n",
       "    <tr>\n",
       "      <th>Genero</th>\n",
       "    </tr>\n",
       "    <tr>\n",
       "      <th>Idade</th>\n",
       "    </tr>\n",
       "    <tr>\n",
       "      <th>Patrimonio</th>\n",
       "    </tr>\n",
       "    <tr>\n",
       "      <th>Saldo</th>\n",
       "    </tr>\n",
       "    <tr>\n",
       "      <th>Produtos</th>\n",
       "    </tr>\n",
       "    <tr>\n",
       "      <th>TemCartCredito</th>\n",
       "    </tr>\n",
       "    <tr>\n",
       "      <th>Ativo</th>\n",
       "    </tr>\n",
       "    <tr>\n",
       "      <th>Salario</th>\n",
       "    </tr>\n",
       "    <tr>\n",
       "      <th>Saiu</th>\n",
       "    </tr>\n",
       "  </tbody>\n",
       "</table>\n",
       "</div>"
      ],
      "text/plain": [
       "Empty DataFrame\n",
       "Columns: []\n",
       "Index: [Id, Score, Estado, Genero, Idade, Patrimonio, Saldo, Produtos, TemCartCredito, Ativo, Salario, Saiu]"
      ]
     },
     "execution_count": 34,
     "metadata": {},
     "output_type": "execute_result"
    }
   ],
   "source": [
    "data[data.duplicated(['Id'], keep=False)].T\n",
    "\n",
    "#OK"
   ]
  },
  {
   "cell_type": "code",
   "execution_count": 35,
   "id": "c0c9dd91",
   "metadata": {},
   "outputs": [
    {
     "data": {
      "text/plain": [
       "(995, 12)"
      ]
     },
     "execution_count": 35,
     "metadata": {},
     "output_type": "execute_result"
    }
   ],
   "source": [
    "data.shape"
   ]
  },
  {
   "cell_type": "markdown",
   "id": "960b35f8",
   "metadata": {},
   "source": [
    "#### Produtos"
   ]
  },
  {
   "cell_type": "code",
   "execution_count": 36,
   "id": "72245d32",
   "metadata": {},
   "outputs": [
    {
     "data": {
      "text/plain": [
       "count    995.000000\n",
       "mean       1.525628\n",
       "std        0.574523\n",
       "min        1.000000\n",
       "25%        1.000000\n",
       "50%        1.000000\n",
       "75%        2.000000\n",
       "max        4.000000\n",
       "Name: Produtos, dtype: float64"
      ]
     },
     "execution_count": 36,
     "metadata": {},
     "output_type": "execute_result"
    }
   ],
   "source": [
    "data['Produtos'].describe().T"
   ]
  },
  {
   "cell_type": "code",
   "execution_count": 37,
   "id": "e1bd5a6d",
   "metadata": {},
   "outputs": [
    {
     "data": {
      "image/png": "[encoded data removed]",
      "text/plain": [
       "<Figure size 360x360 with 1 Axes>"
      ]
     },
     "metadata": {
      "needs_background": "light"
     },
     "output_type": "display_data"
    }
   ],
   "source": [
    "srn.displot(data['Produtos']);\n",
    "\n",
    "#ok"
   ]
  },
  {
   "cell_type": "code",
   "execution_count": 38,
   "id": "0d8401eb",
   "metadata": {},
   "outputs": [
    {
     "data": {
      "image/png": "[encoded data removed]",
      "text/plain": [
       "<Figure size 360x360 with 1 Axes>"
      ]
     },
     "metadata": {
      "needs_background": "light"
     },
     "output_type": "display_data"
    }
   ],
   "source": [
    "srn.displot(data['Produtos']);\n",
    "\n",
    "#Ok"
   ]
  },
  {
   "cell_type": "markdown",
   "id": "69864b5a",
   "metadata": {},
   "source": [
    "##### Patrimonio"
   ]
  },
  {
   "cell_type": "code",
   "execution_count": 39,
   "id": "ff231ce8",
   "metadata": {},
   "outputs": [
    {
     "data": {
      "image/png": "[encoded data removed]",
      "text/plain": [
       "<Figure size 360x360 with 1 Axes>"
      ]
     },
     "metadata": {
      "needs_background": "light"
     },
     "output_type": "display_data"
    }
   ],
   "source": [
    "srn.displot(data['Patrimonio']);\n",
    "\n",
    "## OK"
   ]
  },
  {
   "cell_type": "code",
   "execution_count": null,
   "id": "522cbf21",
   "metadata": {},
   "outputs": [],
   "source": []
  }
 ],
 "metadata": {
  "kernelspec": {
   "display_name": "Python 3 (ipykernel)",
   "language": "python",
   "name": "python3"
  },
  "language_info": {
   "codemirror_mode": {
    "name": "ipython",
    "version": 3
   },
   "file_extension": ".py",
   "mimetype": "text/x-python",
   "name": "python",
   "nbconvert_exporter": "python",
   "pygments_lexer": "ipython3",
   "version": "3.9.7"
  }
 },
 "nbformat": 4,
 "nbformat_minor": 5
}
